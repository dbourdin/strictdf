{
 "cells": [
  {
   "cell_type": "markdown",
   "metadata": {},
   "source": [
    "# <img style=\"float: left; padding-right: 10px; width: 200px\" src=\"https://fligoo.com/img/logo-large.png\"> Fligoo - Tech Interview: Strict DF\n",
    "\n",
    "### March 2020\n",
    "\n",
    "<hr style=\"height:2pt\">"
   ]
  },
  {
   "cell_type": "markdown",
   "metadata": {},
   "source": [
    "## Description\n",
    "\n",
    "The Pandas DataFrames can handle mixed data types on the columns: for instance, a column \"month\" can have both integer and string values, being \"object\" the data type associated in those cases. This ability could result in undesired side effects in several use cases, especially on data pipelines where it is necessary to know the type of data processed over the steps.\n",
    "\n",
    "The goal of this test is to develop a library that provides utils to handle Pandas DataFrames in a \"strict\" way regarding the data schema, so a DataFrame enforces a proper data type for each of its columns, as well as other related utils. \n",
    "\n",
    "The library should be tested the following dataset, created from a financial institution and purposedely manipulated for this exercise: [link](https://s3-us-west-2.amazonaws.com/fligoo.data-science/TechInterviews/StrictDF/data/credit-data.csv).\n",
    "\n",
    "Please read carefully the following assignment in order to understand what do we exepect as an outcome."
   ]
  },
  {
   "cell_type": "markdown",
   "metadata": {},
   "source": [
    "## Assignment \n",
    "\n",
    "The end goal for this exercise is to develop a library providing a class `StrictDataFrame` which allows to enforce a strict data schema/data type for each of columns in the DataFrame. The use case for the library to be created should look like: \n",
    "\n",
    "```python\n",
    "from strictdf import StrictDataFrame\n",
    "import pandas as pd\n",
    "\n",
    "df = pd.read_csv(\"data/credit-data.csv\")\n",
    "\n",
    "sdf = StrictDataFrame(df)\n",
    "\n",
    "sdf.dtypes\n",
    "# Returns the following dict:\n",
    "# {\"serious_dlqin2yrs\": \"bool\", \n",
    "#  \"revolving_utilization_of_unsecured_lines\": \"float64\",\n",
    "#  \"age\": \"int64\",\n",
    "#  \"number_of_time30-59_days_past_due_not_worse\": \"int64\",\n",
    "#  \"debt_ratio\": \"float64\",\n",
    "#  \"monthly_income\": \"int64\",\n",
    "#  \"number_of_open_credit_lines_and_loans\": \"int64\",\n",
    "#  \"number_of_times90_days_late\": \"int64\", \n",
    "#  \"number_real_estate_loans_or_lines\": int64\",\n",
    "#  \"number_of_time60-89_days_past_due_not_worse\": \"int64\",\n",
    "#  \"number_of_dependents\": \"int64\"}\n",
    "\n",
    "sdf.report()\n",
    "# Prints \"DataFrame having shape '(120263, 11)' (29737 rows removed from original)\"\n",
    "\n",
    "sdf.old_df\n",
    "# Returns the original pd.DataFrame\n",
    "\n",
    "sdf.new_df\n",
    "# Returns the modified pd.DataFrame\n",
    "```\n",
    "\n",
    "You are free to extend the behavior in a way that is aligned to the use case, but in the end, it is required to comply with \"mandatory\" aspects of this work. Also, there are some \"bonus\" aspects to obtain an outstanding qualification on this assessment.\n",
    "\n",
    "**NOTE: documentation must be in English.**\n",
    "\n",
    "### Mandatory\n",
    "\n",
    "- **Technologies:** The work involved should be done by using at least the following stack:   \n",
    "    - Python 3.x (not 2.x)\n",
    "    - Pandas 1.0.x\n",
    "    - Jupyter 1.0.x\n",
    "    - Pytest 5.3.x\n",
    "- **Python package:** The obtained library \"strictdf\" must be installable as a Python package, solving all necessary dependencies for correct usage. It should cover the following aspects from the use case defined:\n",
    "\t- Class `StrictDataFrame` that accepts a pd.DataFrame and apply the following filters:\n",
    "\t\t- NaNs are removed from all columns (no missing values allowed).\n",
    "\t\t- For each column, infer the expected data type and remove all the rows that don't belong to that type. For example, if 90% of rows for a column are integers, then floats and strings should be removed.\n",
    "\t\t- The supported data types for this class are: `int64`, `float64`, `bool`, `str`. \n",
    "\t- The class should allow retrieving the attributes `old_df` (the pd.DataFrame received on the constructor) and `new_df` (the pd.DataFrame obtained after filters).\n",
    "\t- The attribute `dtypes` should be a dict of the data schema obtained for the DataFrame after filters applied.\n",
    "\t- A method `report()` should print a message about the shape of the DataFrame obtained, compared with the original one (see the example to know the expected format).\n",
    "- **Testing:** Unit-testing through pytest, in order to achieve a code coverage of at least 70%.\n",
    "- **Jupyter notebook:** A very simple example of usage, covering the use case defined as well. \n",
    "- **Code versioning with Git** (you are free to publish it on your own Github/Bitbucket account).\n",
    "- **Use all possible [programming styles in Python](https://blog.newrelic.com/engineering/python-programming-styles/)** (i.e. imperative, OOP, functional, procedural).\n",
    "- **Docstring** on classes and functions developed.\n",
    "\n",
    "### Bonus\n",
    "\n",
    "- Dockerfile to setup environment and execute tests.\n",
    "- API Reference in HTML / PDF automatically generated (e.g. Sphinx, Mkdocs)\n",
    "- Propose a way to impute values that are being removed to not meet expected data types.\n",
    "\n",
    "This assesment is designed to be finished in 1 week as much. Once you complete it, please send a ZIP file of the folder with all the resources used in this work (e.g. Python library, text files, Jupyter notebooks, etc) to leandro.ferrado@fligoo.com. Then you are going to have a final meeting with the team to discuss the work done in this notebook and answer the questions that could arise.\n",
    "\n",
    "**Have fun!**\n",
    "\n",
    "![Have fun](https://media.thefinergifs.club/08x11-352852.gif)"
   ]
  }
 ],
 "metadata": {
  "@webio": {
   "lastCommId": "814db409262d41e59a8f535448fcae85",
   "lastKernelId": "3183b2f9-976f-49e9-9ea7-931bafbad9e4"
  },
  "kernelspec": {
   "display_name": "Python 3",
   "language": "python",
   "name": "python3"
  },
  "language_info": {
   "codemirror_mode": {
    "name": "ipython",
    "version": 3
   },
   "file_extension": ".py",
   "mimetype": "text/x-python",
   "name": "python",
   "nbconvert_exporter": "python",
   "pygments_lexer": "ipython3",
   "version": "3.6.8"
  }
 },
 "nbformat": 4,
 "nbformat_minor": 4
}
